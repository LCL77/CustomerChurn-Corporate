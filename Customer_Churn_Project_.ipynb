{
  "nbformat": 4,
  "nbformat_minor": 0,
  "metadata": {
    "kernelspec": {
      "display_name": "Python 3",
      "language": "python",
      "name": "python3"
    },
    "language_info": {
      "codemirror_mode": {
        "name": "ipython",
        "version": 3
      },
      "file_extension": ".py",
      "mimetype": "text/x-python",
      "name": "python",
      "nbconvert_exporter": "python",
      "pygments_lexer": "ipython3",
      "version": "3.6.5"
    },
    "colab": {
      "name": "Customer Churn Project .ipynb",
      "provenance": [],
      "collapsed_sections": [
        "Uts8lrzv7OcW",
        "px6ipuxQ7OcX",
        "V8JzcMsv7OcY"
      ]
    }
  },
  "cells": [
    {
      "cell_type": "code",
      "metadata": {
        "id": "jM7ySMjJ7Ob9"
      },
      "source": [
        "#https://towardsdatascience.com/machine-learning-case-study-telco-customer-churn-prediction-bc4be03c9e1d\n",
        "#https://towardsdatascience.com/telco-customer-churn-prediction-72f5cbfb8964\n",
        "#https://journalofbigdata.springeropen.com/articles/10.1186/s40537-019-0191-6\n",
        "#https://www.kaggle.com/bandiatindra/telecom-churn-prediction"
      ],
      "execution_count": null,
      "outputs": []
    },
    {
      "cell_type": "markdown",
      "metadata": {
        "id": "09kNjZsr7OcC"
      },
      "source": [
        "Step for test: \n",
        "Step 1: Problem Definition\n",
        "Step 2: Data Collection\n",
        "Step 3: Exploratory Data Analysis (EDA)\n",
        "Step 4: Feature Engineering\n",
        "Step 5: Train/Test Split\n",
        "Step 6: Model Evaluation Metrics Definition\n",
        "Step 7: Model Selection, Training, Prediction and Assessment\n",
        "Step 8: Hyperparameter Tuning/Model Improvement"
      ]
    },
    {
      "cell_type": "code",
      "metadata": {
        "id": "OJ08BPh67OcD"
      },
      "source": [
        "import pandas as pd \n",
        "import numpy as np\n",
        "import seaborn as sns \n",
        "from matplotlib import pyplot as plt"
      ],
      "execution_count": null,
      "outputs": []
    },
    {
      "cell_type": "markdown",
      "metadata": {
        "id": "unMA0cFq7OcF"
      },
      "source": [
        "# Step 1: Problem Identification "
      ]
    },
    {
      "cell_type": "markdown",
      "metadata": {
        "id": "eFgM8bjS7OcG"
      },
      "source": [
        "Based on the introduction the key challenge is to predict if an individual customer will churn or not.  machine learning models are trained based on 80% of the sample data. The remaining 20% are used to apply the trained models and assess their predictive power with regards to “churn / not churn”. A side question will be, which features actually drive customer churn. That information can be used to identify customer “pain points” and resolve them by providing goodies to make customers stay.he balance between classes (number of “churners” vs. “non-churners” in data set) \n",
        "\n",
        "proves that retaining an existing customer costs much lower than acquiring a new one [3], in addition to being considered much easier than the upselling strategy [4]. To apply the third strategy, companies have to decrease the potential of customer’s churn, known as “the customer movement from one provider to another” [5]."
      ]
    },
    {
      "cell_type": "markdown",
      "metadata": {
        "id": "z3JiYy067OcH"
      },
      "source": [
        "# Step 2: Data Collection"
      ]
    },
    {
      "cell_type": "code",
      "metadata": {
        "colab": {
          "resources": {
            "http://localhost:8080/nbextensions/google.colab/files.js": {
              "data": "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",
              "ok": true,
              "headers": [
                [
                  "content-type",
                  "application/javascript"
                ]
              ],
              "status": 200,
              "status_text": ""
            }
          },
          "base_uri": "https://localhost:8080/",
          "height": 73
        },
        "id": "45WQrJsl7ofC",
        "outputId": "2c83baa2-2374-413a-879c-d26a5fd049cb"
      },
      "source": [
        "from google.colab import files\n",
        "uploaded = files.upload()"
      ],
      "execution_count": null,
      "outputs": [
        {
          "output_type": "display_data",
          "data": {
            "text/html": [
              "\n",
              "     <input type=\"file\" id=\"files-ce14557f-6814-4e9f-9f5e-2890491ab159\" name=\"files[]\" multiple disabled\n",
              "        style=\"border:none\" />\n",
              "     <output id=\"result-ce14557f-6814-4e9f-9f5e-2890491ab159\">\n",
              "      Upload widget is only available when the cell has been executed in the\n",
              "      current browser session. Please rerun this cell to enable.\n",
              "      </output>\n",
              "      <script src=\"/nbextensions/google.colab/files.js\"></script> "
            ],
            "text/plain": [
              "<IPython.core.display.HTML object>"
            ]
          },
          "metadata": {}
        },
        {
          "output_type": "stream",
          "name": "stdout",
          "text": [
            "Saving train.csv to train.csv\n"
          ]
        }
      ]
    },
    {
      "cell_type": "code",
      "metadata": {
        "id": "zXQDCeFT7OcH"
      },
      "source": [
        "churn = pd.read_csv('train.csv')\n"
      ],
      "execution_count": null,
      "outputs": []
    },
    {
      "cell_type": "markdown",
      "metadata": {
        "id": "h4uCrJSN7OcI"
      },
      "source": [
        "# Step 3: Exploratory Data Analysis"
      ]
    },
    {
      "cell_type": "markdown",
      "metadata": {
        "id": "lv7BIo4z7OcJ"
      },
      "source": [
        "Goal of this step is to get an understanding of the data structure, conduct initial preprocessing, clean the data, identify patterns and inconsistencies in the data (i.e. skewness, outliers, missing values) and build and validate hypotheses.\n",
        "\n",
        "In the first part of EDA the data frame is evaluated for structure, columns included and data types. The goals of this step are to get a general understanding for the data set, check domain knowledge and get first ideas on topics to investigate."
      ]
    },
    {
      "cell_type": "code",
      "metadata": {
        "colab": {
          "base_uri": "https://localhost:8080/",
          "height": 223
        },
        "id": "myYtzRNW7OcK",
        "outputId": "09421ebe-d4d0-439a-a9eb-d566bf74e8e9"
      },
      "source": [
        "churn.head()"
      ],
      "execution_count": null,
      "outputs": [
        {
          "output_type": "execute_result",
          "data": {
            "text/html": [
              "<div>\n",
              "<style scoped>\n",
              "    .dataframe tbody tr th:only-of-type {\n",
              "        vertical-align: middle;\n",
              "    }\n",
              "\n",
              "    .dataframe tbody tr th {\n",
              "        vertical-align: top;\n",
              "    }\n",
              "\n",
              "    .dataframe thead th {\n",
              "        text-align: right;\n",
              "    }\n",
              "</style>\n",
              "<table border=\"1\" class=\"dataframe\">\n",
              "  <thead>\n",
              "    <tr style=\"text-align: right;\">\n",
              "      <th></th>\n",
              "      <th>state</th>\n",
              "      <th>account_length</th>\n",
              "      <th>area_code</th>\n",
              "      <th>international_plan</th>\n",
              "      <th>voice_mail_plan</th>\n",
              "      <th>number_vmail_messages</th>\n",
              "      <th>total_day_minutes</th>\n",
              "      <th>total_day_calls</th>\n",
              "      <th>total_day_charge</th>\n",
              "      <th>total_eve_minutes</th>\n",
              "      <th>total_eve_calls</th>\n",
              "      <th>total_eve_charge</th>\n",
              "      <th>total_night_minutes</th>\n",
              "      <th>total_night_calls</th>\n",
              "      <th>total_night_charge</th>\n",
              "      <th>total_intl_minutes</th>\n",
              "      <th>total_intl_calls</th>\n",
              "      <th>total_intl_charge</th>\n",
              "      <th>number_customer_service_calls</th>\n",
              "      <th>churn</th>\n",
              "    </tr>\n",
              "  </thead>\n",
              "  <tbody>\n",
              "    <tr>\n",
              "      <th>0</th>\n",
              "      <td>OH</td>\n",
              "      <td>107</td>\n",
              "      <td>area_code_415</td>\n",
              "      <td>no</td>\n",
              "      <td>yes</td>\n",
              "      <td>26</td>\n",
              "      <td>161.6</td>\n",
              "      <td>123</td>\n",
              "      <td>27.47</td>\n",
              "      <td>195.5</td>\n",
              "      <td>103</td>\n",
              "      <td>16.62</td>\n",
              "      <td>254.4</td>\n",
              "      <td>103</td>\n",
              "      <td>11.45</td>\n",
              "      <td>13.7</td>\n",
              "      <td>3</td>\n",
              "      <td>3.70</td>\n",
              "      <td>1</td>\n",
              "      <td>no</td>\n",
              "    </tr>\n",
              "    <tr>\n",
              "      <th>1</th>\n",
              "      <td>NJ</td>\n",
              "      <td>137</td>\n",
              "      <td>area_code_415</td>\n",
              "      <td>no</td>\n",
              "      <td>no</td>\n",
              "      <td>0</td>\n",
              "      <td>243.4</td>\n",
              "      <td>114</td>\n",
              "      <td>41.38</td>\n",
              "      <td>121.2</td>\n",
              "      <td>110</td>\n",
              "      <td>10.30</td>\n",
              "      <td>162.6</td>\n",
              "      <td>104</td>\n",
              "      <td>7.32</td>\n",
              "      <td>12.2</td>\n",
              "      <td>5</td>\n",
              "      <td>3.29</td>\n",
              "      <td>0</td>\n",
              "      <td>no</td>\n",
              "    </tr>\n",
              "    <tr>\n",
              "      <th>2</th>\n",
              "      <td>OH</td>\n",
              "      <td>84</td>\n",
              "      <td>area_code_408</td>\n",
              "      <td>yes</td>\n",
              "      <td>no</td>\n",
              "      <td>0</td>\n",
              "      <td>299.4</td>\n",
              "      <td>71</td>\n",
              "      <td>50.90</td>\n",
              "      <td>61.9</td>\n",
              "      <td>88</td>\n",
              "      <td>5.26</td>\n",
              "      <td>196.9</td>\n",
              "      <td>89</td>\n",
              "      <td>8.86</td>\n",
              "      <td>6.6</td>\n",
              "      <td>7</td>\n",
              "      <td>1.78</td>\n",
              "      <td>2</td>\n",
              "      <td>no</td>\n",
              "    </tr>\n",
              "    <tr>\n",
              "      <th>3</th>\n",
              "      <td>OK</td>\n",
              "      <td>75</td>\n",
              "      <td>area_code_415</td>\n",
              "      <td>yes</td>\n",
              "      <td>no</td>\n",
              "      <td>0</td>\n",
              "      <td>166.7</td>\n",
              "      <td>113</td>\n",
              "      <td>28.34</td>\n",
              "      <td>148.3</td>\n",
              "      <td>122</td>\n",
              "      <td>12.61</td>\n",
              "      <td>186.9</td>\n",
              "      <td>121</td>\n",
              "      <td>8.41</td>\n",
              "      <td>10.1</td>\n",
              "      <td>3</td>\n",
              "      <td>2.73</td>\n",
              "      <td>3</td>\n",
              "      <td>no</td>\n",
              "    </tr>\n",
              "    <tr>\n",
              "      <th>4</th>\n",
              "      <td>MA</td>\n",
              "      <td>121</td>\n",
              "      <td>area_code_510</td>\n",
              "      <td>no</td>\n",
              "      <td>yes</td>\n",
              "      <td>24</td>\n",
              "      <td>218.2</td>\n",
              "      <td>88</td>\n",
              "      <td>37.09</td>\n",
              "      <td>348.5</td>\n",
              "      <td>108</td>\n",
              "      <td>29.62</td>\n",
              "      <td>212.6</td>\n",
              "      <td>118</td>\n",
              "      <td>9.57</td>\n",
              "      <td>7.5</td>\n",
              "      <td>7</td>\n",
              "      <td>2.03</td>\n",
              "      <td>3</td>\n",
              "      <td>no</td>\n",
              "    </tr>\n",
              "  </tbody>\n",
              "</table>\n",
              "</div>"
            ],
            "text/plain": [
              "  state  account_length  ... number_customer_service_calls churn\n",
              "0    OH             107  ...                             1    no\n",
              "1    NJ             137  ...                             0    no\n",
              "2    OH              84  ...                             2    no\n",
              "3    OK              75  ...                             3    no\n",
              "4    MA             121  ...                             3    no\n",
              "\n",
              "[5 rows x 20 columns]"
            ]
          },
          "metadata": {},
          "execution_count": 5
        }
      ]
    },
    {
      "cell_type": "code",
      "metadata": {
        "colab": {
          "base_uri": "https://localhost:8080/"
        },
        "id": "K8TbvXM57OcL",
        "outputId": "ef34aa4f-a43d-4e3e-e687-06e319be59cf"
      },
      "source": [
        "churn.info()"
      ],
      "execution_count": null,
      "outputs": [
        {
          "output_type": "stream",
          "name": "stdout",
          "text": [
            "<class 'pandas.core.frame.DataFrame'>\n",
            "RangeIndex: 4250 entries, 0 to 4249\n",
            "Data columns (total 20 columns):\n",
            " #   Column                         Non-Null Count  Dtype  \n",
            "---  ------                         --------------  -----  \n",
            " 0   state                          4250 non-null   object \n",
            " 1   account_length                 4250 non-null   int64  \n",
            " 2   area_code                      4250 non-null   object \n",
            " 3   international_plan             4250 non-null   object \n",
            " 4   voice_mail_plan                4250 non-null   object \n",
            " 5   number_vmail_messages          4250 non-null   int64  \n",
            " 6   total_day_minutes              4250 non-null   float64\n",
            " 7   total_day_calls                4250 non-null   int64  \n",
            " 8   total_day_charge               4250 non-null   float64\n",
            " 9   total_eve_minutes              4250 non-null   float64\n",
            " 10  total_eve_calls                4250 non-null   int64  \n",
            " 11  total_eve_charge               4250 non-null   float64\n",
            " 12  total_night_minutes            4250 non-null   float64\n",
            " 13  total_night_calls              4250 non-null   int64  \n",
            " 14  total_night_charge             4250 non-null   float64\n",
            " 15  total_intl_minutes             4250 non-null   float64\n",
            " 16  total_intl_calls               4250 non-null   int64  \n",
            " 17  total_intl_charge              4250 non-null   float64\n",
            " 18  number_customer_service_calls  4250 non-null   int64  \n",
            " 19  churn                          4250 non-null   object \n",
            "dtypes: float64(8), int64(7), object(5)\n",
            "memory usage: 664.2+ KB\n"
          ]
        }
      ]
    },
    {
      "cell_type": "code",
      "metadata": {
        "id": "1mDBO7V5NaLZ"
      },
      "source": [
        ""
      ],
      "execution_count": null,
      "outputs": []
    },
    {
      "cell_type": "markdown",
      "metadata": {
        "id": "5JEX8f-17OcM"
      },
      "source": [
        "object: Object format means variables are categorical. int64: It represents the integer variables. Senior citizen. float64: It represents the variables which have some decimal values involved."
      ]
    },
    {
      "cell_type": "code",
      "metadata": {
        "id": "U4CpqTIw7OcM",
        "outputId": "0af350dc-bc36-4d49-8585-22c75236b9b7"
      },
      "source": [
        "churn.isna().sum()"
      ],
      "execution_count": null,
      "outputs": [
        {
          "data": {
            "text/plain": [
              "state                            0\n",
              "account_length                   0\n",
              "area_code                        0\n",
              "international_plan               0\n",
              "voice_mail_plan                  0\n",
              "number_vmail_messages            0\n",
              "total_day_minutes                0\n",
              "total_day_calls                  0\n",
              "total_day_charge                 0\n",
              "total_eve_minutes                0\n",
              "total_eve_calls                  0\n",
              "total_eve_charge                 0\n",
              "total_night_minutes              0\n",
              "total_night_calls                0\n",
              "total_night_charge               0\n",
              "total_intl_minutes               0\n",
              "total_intl_calls                 0\n",
              "total_intl_charge                0\n",
              "number_customer_service_calls    0\n",
              "churn                            0\n",
              "dtype: int64"
            ]
          },
          "execution_count": 14,
          "metadata": {},
          "output_type": "execute_result"
        }
      ]
    },
    {
      "cell_type": "code",
      "metadata": {
        "id": "HsmVPGCj7OcN",
        "outputId": "1272fd42-8c96-4bf0-ef81-931dd8e710d1"
      },
      "source": [
        "churn.describe()"
      ],
      "execution_count": null,
      "outputs": [
        {
          "data": {
            "text/html": [
              "<div>\n",
              "<style scoped>\n",
              "    .dataframe tbody tr th:only-of-type {\n",
              "        vertical-align: middle;\n",
              "    }\n",
              "\n",
              "    .dataframe tbody tr th {\n",
              "        vertical-align: top;\n",
              "    }\n",
              "\n",
              "    .dataframe thead th {\n",
              "        text-align: right;\n",
              "    }\n",
              "</style>\n",
              "<table border=\"1\" class=\"dataframe\">\n",
              "  <thead>\n",
              "    <tr style=\"text-align: right;\">\n",
              "      <th></th>\n",
              "      <th>account_length</th>\n",
              "      <th>number_vmail_messages</th>\n",
              "      <th>total_day_minutes</th>\n",
              "      <th>total_day_calls</th>\n",
              "      <th>total_day_charge</th>\n",
              "      <th>total_eve_minutes</th>\n",
              "      <th>total_eve_calls</th>\n",
              "      <th>total_eve_charge</th>\n",
              "      <th>total_night_minutes</th>\n",
              "      <th>total_night_calls</th>\n",
              "      <th>total_night_charge</th>\n",
              "      <th>total_intl_minutes</th>\n",
              "      <th>total_intl_calls</th>\n",
              "      <th>total_intl_charge</th>\n",
              "      <th>number_customer_service_calls</th>\n",
              "    </tr>\n",
              "  </thead>\n",
              "  <tbody>\n",
              "    <tr>\n",
              "      <th>count</th>\n",
              "      <td>4250.000000</td>\n",
              "      <td>4250.000000</td>\n",
              "      <td>4250.000000</td>\n",
              "      <td>4250.000000</td>\n",
              "      <td>4250.000000</td>\n",
              "      <td>4250.000000</td>\n",
              "      <td>4250.000000</td>\n",
              "      <td>4250.000000</td>\n",
              "      <td>4250.000000</td>\n",
              "      <td>4250.000000</td>\n",
              "      <td>4250.000000</td>\n",
              "      <td>4250.000000</td>\n",
              "      <td>4250.000000</td>\n",
              "      <td>4250.000000</td>\n",
              "      <td>4250.000000</td>\n",
              "    </tr>\n",
              "    <tr>\n",
              "      <th>mean</th>\n",
              "      <td>100.236235</td>\n",
              "      <td>7.631765</td>\n",
              "      <td>180.259600</td>\n",
              "      <td>99.907294</td>\n",
              "      <td>30.644682</td>\n",
              "      <td>200.173906</td>\n",
              "      <td>100.176471</td>\n",
              "      <td>17.015012</td>\n",
              "      <td>200.527882</td>\n",
              "      <td>99.839529</td>\n",
              "      <td>9.023892</td>\n",
              "      <td>10.256071</td>\n",
              "      <td>4.426353</td>\n",
              "      <td>2.769654</td>\n",
              "      <td>1.559059</td>\n",
              "    </tr>\n",
              "    <tr>\n",
              "      <th>std</th>\n",
              "      <td>39.698401</td>\n",
              "      <td>13.439882</td>\n",
              "      <td>54.012373</td>\n",
              "      <td>19.850817</td>\n",
              "      <td>9.182096</td>\n",
              "      <td>50.249518</td>\n",
              "      <td>19.908591</td>\n",
              "      <td>4.271212</td>\n",
              "      <td>50.353548</td>\n",
              "      <td>20.093220</td>\n",
              "      <td>2.265922</td>\n",
              "      <td>2.760102</td>\n",
              "      <td>2.463069</td>\n",
              "      <td>0.745204</td>\n",
              "      <td>1.311434</td>\n",
              "    </tr>\n",
              "    <tr>\n",
              "      <th>min</th>\n",
              "      <td>1.000000</td>\n",
              "      <td>0.000000</td>\n",
              "      <td>0.000000</td>\n",
              "      <td>0.000000</td>\n",
              "      <td>0.000000</td>\n",
              "      <td>0.000000</td>\n",
              "      <td>0.000000</td>\n",
              "      <td>0.000000</td>\n",
              "      <td>0.000000</td>\n",
              "      <td>0.000000</td>\n",
              "      <td>0.000000</td>\n",
              "      <td>0.000000</td>\n",
              "      <td>0.000000</td>\n",
              "      <td>0.000000</td>\n",
              "      <td>0.000000</td>\n",
              "    </tr>\n",
              "    <tr>\n",
              "      <th>25%</th>\n",
              "      <td>73.000000</td>\n",
              "      <td>0.000000</td>\n",
              "      <td>143.325000</td>\n",
              "      <td>87.000000</td>\n",
              "      <td>24.365000</td>\n",
              "      <td>165.925000</td>\n",
              "      <td>87.000000</td>\n",
              "      <td>14.102500</td>\n",
              "      <td>167.225000</td>\n",
              "      <td>86.000000</td>\n",
              "      <td>7.522500</td>\n",
              "      <td>8.500000</td>\n",
              "      <td>3.000000</td>\n",
              "      <td>2.300000</td>\n",
              "      <td>1.000000</td>\n",
              "    </tr>\n",
              "    <tr>\n",
              "      <th>50%</th>\n",
              "      <td>100.000000</td>\n",
              "      <td>0.000000</td>\n",
              "      <td>180.450000</td>\n",
              "      <td>100.000000</td>\n",
              "      <td>30.680000</td>\n",
              "      <td>200.700000</td>\n",
              "      <td>100.000000</td>\n",
              "      <td>17.060000</td>\n",
              "      <td>200.450000</td>\n",
              "      <td>100.000000</td>\n",
              "      <td>9.020000</td>\n",
              "      <td>10.300000</td>\n",
              "      <td>4.000000</td>\n",
              "      <td>2.780000</td>\n",
              "      <td>1.000000</td>\n",
              "    </tr>\n",
              "    <tr>\n",
              "      <th>75%</th>\n",
              "      <td>127.000000</td>\n",
              "      <td>16.000000</td>\n",
              "      <td>216.200000</td>\n",
              "      <td>113.000000</td>\n",
              "      <td>36.750000</td>\n",
              "      <td>233.775000</td>\n",
              "      <td>114.000000</td>\n",
              "      <td>19.867500</td>\n",
              "      <td>234.700000</td>\n",
              "      <td>113.000000</td>\n",
              "      <td>10.560000</td>\n",
              "      <td>12.000000</td>\n",
              "      <td>6.000000</td>\n",
              "      <td>3.240000</td>\n",
              "      <td>2.000000</td>\n",
              "    </tr>\n",
              "    <tr>\n",
              "      <th>max</th>\n",
              "      <td>243.000000</td>\n",
              "      <td>52.000000</td>\n",
              "      <td>351.500000</td>\n",
              "      <td>165.000000</td>\n",
              "      <td>59.760000</td>\n",
              "      <td>359.300000</td>\n",
              "      <td>170.000000</td>\n",
              "      <td>30.540000</td>\n",
              "      <td>395.000000</td>\n",
              "      <td>175.000000</td>\n",
              "      <td>17.770000</td>\n",
              "      <td>20.000000</td>\n",
              "      <td>20.000000</td>\n",
              "      <td>5.400000</td>\n",
              "      <td>9.000000</td>\n",
              "    </tr>\n",
              "  </tbody>\n",
              "</table>\n",
              "</div>"
            ],
            "text/plain": [
              "       account_length  number_vmail_messages  total_day_minutes  \\\n",
              "count     4250.000000            4250.000000        4250.000000   \n",
              "mean       100.236235               7.631765         180.259600   \n",
              "std         39.698401              13.439882          54.012373   \n",
              "min          1.000000               0.000000           0.000000   \n",
              "25%         73.000000               0.000000         143.325000   \n",
              "50%        100.000000               0.000000         180.450000   \n",
              "75%        127.000000              16.000000         216.200000   \n",
              "max        243.000000              52.000000         351.500000   \n",
              "\n",
              "       total_day_calls  total_day_charge  total_eve_minutes  total_eve_calls  \\\n",
              "count      4250.000000       4250.000000        4250.000000      4250.000000   \n",
              "mean         99.907294         30.644682         200.173906       100.176471   \n",
              "std          19.850817          9.182096          50.249518        19.908591   \n",
              "min           0.000000          0.000000           0.000000         0.000000   \n",
              "25%          87.000000         24.365000         165.925000        87.000000   \n",
              "50%         100.000000         30.680000         200.700000       100.000000   \n",
              "75%         113.000000         36.750000         233.775000       114.000000   \n",
              "max         165.000000         59.760000         359.300000       170.000000   \n",
              "\n",
              "       total_eve_charge  total_night_minutes  total_night_calls  \\\n",
              "count       4250.000000          4250.000000        4250.000000   \n",
              "mean          17.015012           200.527882          99.839529   \n",
              "std            4.271212            50.353548          20.093220   \n",
              "min            0.000000             0.000000           0.000000   \n",
              "25%           14.102500           167.225000          86.000000   \n",
              "50%           17.060000           200.450000         100.000000   \n",
              "75%           19.867500           234.700000         113.000000   \n",
              "max           30.540000           395.000000         175.000000   \n",
              "\n",
              "       total_night_charge  total_intl_minutes  total_intl_calls  \\\n",
              "count         4250.000000         4250.000000       4250.000000   \n",
              "mean             9.023892           10.256071          4.426353   \n",
              "std              2.265922            2.760102          2.463069   \n",
              "min              0.000000            0.000000          0.000000   \n",
              "25%              7.522500            8.500000          3.000000   \n",
              "50%              9.020000           10.300000          4.000000   \n",
              "75%             10.560000           12.000000          6.000000   \n",
              "max             17.770000           20.000000         20.000000   \n",
              "\n",
              "       total_intl_charge  number_customer_service_calls  \n",
              "count        4250.000000                    4250.000000  \n",
              "mean            2.769654                       1.559059  \n",
              "std             0.745204                       1.311434  \n",
              "min             0.000000                       0.000000  \n",
              "25%             2.300000                       1.000000  \n",
              "50%             2.780000                       1.000000  \n",
              "75%             3.240000                       2.000000  \n",
              "max             5.400000                       9.000000  "
            ]
          },
          "execution_count": 13,
          "metadata": {},
          "output_type": "execute_result"
        }
      ]
    },
    {
      "cell_type": "code",
      "metadata": {
        "colab": {
          "base_uri": "https://localhost:8080/",
          "height": 128
        },
        "id": "CVcRbyMy7OcN",
        "outputId": "dcf01723-d883-4fc0-c89c-f394326b5612"
      },
      "source": [
        "#looping through columns to find number of unique features in each column \n",
        "\n",
        "for i in churn.columns:\n",
        "    print (f\"Unique {i's}count:)"
      ],
      "execution_count": null,
      "outputs": [
        {
          "output_type": "error",
          "ename": "SyntaxError",
          "evalue": "ignored",
          "traceback": [
            "\u001b[0;36m  File \u001b[0;32m\"<ipython-input-9-04e2f91a1532>\"\u001b[0;36m, line \u001b[0;32m4\u001b[0m\n\u001b[0;31m    print (f\"Unique {i's}count:)\u001b[0m\n\u001b[0m                                ^\u001b[0m\n\u001b[0;31mSyntaxError\u001b[0m\u001b[0;31m:\u001b[0m EOL while scanning string literal\n"
          ]
        }
      ]
    },
    {
      "cell_type": "code",
      "metadata": {
        "id": "GIZsbHiRW9KY"
      },
      "source": [
        "#Min-Max Scaling Values of numerical features are rescaled between a range of 0 and 1. \n",
        "#Min-max scaler is the standard approach for scaling. For normally distributed features standard scaler could be used, \n",
        "#which scales values around a mean of 0 and a standard deviation of 1. For simplicity we use min-max scaler for all numerical features.\n",
        "\n",
        "\n"
      ],
      "execution_count": null,
      "outputs": []
    },
    {
      "cell_type": "code",
      "metadata": {
        "colab": {
          "base_uri": "https://localhost:8080/",
          "height": 586
        },
        "id": "udUbAB7L7OcO",
        "outputId": "b240b9d7-2aad-4462-88fe-d8fa528c3a5e"
      },
      "source": [
        "#Classification labels\n",
        "#Churn — Whether the customer churned or not (Yes or No), all other yes or no features \n",
        "\n",
        "colors = ['#4D3425','#E4512B']\n",
        "ax = (churn['churn'].value_counts()*100.0 /len(churn)).plot(kind='bar',\n",
        "                                                                           stacked = True,\n",
        "                                                                          rot = 0,\n",
        "                                                                          color = colors,\n",
        "                                                                         figsize = (8,6))\n",
        "ax.yaxis.set_major_formatter(mtick.PercentFormatter())\n",
        "ax.set_ylabel('% Customers',size = 14)\n",
        "ax.set_xlabel('Churn',size = 14)\n",
        "ax.set_title('Churn Rate', size = 14)\n",
        "\n",
        "# create a list to collect the plt.patches data\n",
        "totals = []\n",
        "\n",
        "# find the values and append to list\n",
        "for i in ax.patches:\n",
        "    totals.append(i.get_width())\n",
        "\n",
        "# set individual bar lables using above list\n",
        "total = sum(totals)\n",
        "\n",
        "for i in ax.patches:\n",
        "    # get_width pulls left or right; get_y pushes up or down\n",
        "    ax.text(i.get_x()+.15, i.get_height()-4.0, \\\n",
        "            str(round((i.get_height()/total), 1))+'%',\n",
        "            fontsize=12,\n",
        "            color='white',\n",
        "           weight = 'bold',\n",
        "           size = 14)"
      ],
      "execution_count": null,
      "outputs": [
        {
          "output_type": "error",
          "ename": "NameError",
          "evalue": "ignored",
          "traceback": [
            "\u001b[0;31m---------------------------------------------------------------------------\u001b[0m",
            "\u001b[0;31mNameError\u001b[0m                                 Traceback (most recent call last)",
            "\u001b[0;32m<ipython-input-11-a28bd4db98f8>\u001b[0m in \u001b[0;36m<module>\u001b[0;34m()\u001b[0m\n\u001b[1;32m      8\u001b[0m                                                                           \u001b[0mcolor\u001b[0m \u001b[0;34m=\u001b[0m \u001b[0mcolors\u001b[0m\u001b[0;34m,\u001b[0m\u001b[0;34m\u001b[0m\u001b[0;34m\u001b[0m\u001b[0m\n\u001b[1;32m      9\u001b[0m                                                                          figsize = (8,6))\n\u001b[0;32m---> 10\u001b[0;31m \u001b[0max\u001b[0m\u001b[0;34m.\u001b[0m\u001b[0myaxis\u001b[0m\u001b[0;34m.\u001b[0m\u001b[0mset_major_formatter\u001b[0m\u001b[0;34m(\u001b[0m\u001b[0mmtick\u001b[0m\u001b[0;34m.\u001b[0m\u001b[0mPercentFormatter\u001b[0m\u001b[0;34m(\u001b[0m\u001b[0;34m)\u001b[0m\u001b[0;34m)\u001b[0m\u001b[0;34m\u001b[0m\u001b[0;34m\u001b[0m\u001b[0m\n\u001b[0m\u001b[1;32m     11\u001b[0m \u001b[0max\u001b[0m\u001b[0;34m.\u001b[0m\u001b[0mset_ylabel\u001b[0m\u001b[0;34m(\u001b[0m\u001b[0;34m'% Customers'\u001b[0m\u001b[0;34m,\u001b[0m\u001b[0msize\u001b[0m \u001b[0;34m=\u001b[0m \u001b[0;36m14\u001b[0m\u001b[0;34m)\u001b[0m\u001b[0;34m\u001b[0m\u001b[0;34m\u001b[0m\u001b[0m\n\u001b[1;32m     12\u001b[0m \u001b[0max\u001b[0m\u001b[0;34m.\u001b[0m\u001b[0mset_xlabel\u001b[0m\u001b[0;34m(\u001b[0m\u001b[0;34m'Churn'\u001b[0m\u001b[0;34m,\u001b[0m\u001b[0msize\u001b[0m \u001b[0;34m=\u001b[0m \u001b[0;36m14\u001b[0m\u001b[0;34m)\u001b[0m\u001b[0;34m\u001b[0m\u001b[0;34m\u001b[0m\u001b[0m\n",
            "\u001b[0;31mNameError\u001b[0m: name 'mtick' is not defined"
          ]
        },
        {
          "output_type": "display_data",
          "data": {
            "image/png": "[encoded data removed]",
            "text/plain": [
              "<Figure size 576x432 with 1 Axes>"
            ]
          },
          "metadata": {
            "needs_background": "light"
          }
        }
      ]
    },
    {
      "cell_type": "code",
      "metadata": {
        "colab": {
          "base_uri": "https://localhost:8080/",
          "height": 296
        },
        "id": "C4wobrVI7OcQ",
        "outputId": "e67314a3-0448-4bdb-d3ca-edf30ea3bf84"
      },
      "source": [
        "#find the distribution of the tenure of the telco customers.\n",
        "sns.boxplot(y=churn[\"account_length\"],x=churn[\"churn\"])"
      ],
      "execution_count": null,
      "outputs": [
        {
          "output_type": "execute_result",
          "data": {
            "text/plain": [
              "<matplotlib.axes._subplots.AxesSubplot at 0x7f74edebf050>"
            ]
          },
          "metadata": {},
          "execution_count": 15
        },
        {
          "output_type": "display_data",
          "data": {
            "image/png": "[encoded data removed]",
            "text/plain": [
              "<Figure size 432x288 with 1 Axes>"
            ]
          },
          "metadata": {
            "needs_background": "light"
          }
        }
      ]
    },
    {
      "cell_type": "code",
      "metadata": {
        "colab": {
          "base_uri": "https://localhost:8080/",
          "height": 289
        },
        "id": "X-NpVjoF7OcQ",
        "outputId": "79db9de0-80ec-483c-b8be-a62a109d6042"
      },
      "source": [
        "#Let us first try to find the distribution of the tenure of the customers.\n",
        "\n",
        "internet=pd.crosstab(churn[\"account_length\"],churn[\"churn\"],normalize=\"columns\").plot(kind=\"bar\")"
      ],
      "execution_count": null,
      "outputs": [
        {
          "output_type": "display_data",
          "data": {
            "image/png": "[encoded data removed]",
            "text/plain": [
              "<Figure size 432x288 with 1 Axes>"
            ]
          },
          "metadata": {
            "needs_background": "light"
          }
        }
      ]
    },
    {
      "cell_type": "code",
      "metadata": {
        "colab": {
          "base_uri": "https://localhost:8080/",
          "height": 366
        },
        "id": "JMYsbl9P7OcR",
        "outputId": "9cb6f6d1-0909-48b9-c1ad-ae3f4d3a588e"
      },
      "source": [
        "ax = sns.distplot(churn['account_length'], hist=True, kde=False, \n",
        "             bins=int(180/5), color = 'darkblue', \n",
        "             hist_kws={'edgecolor':'black'},\n",
        "             kde_kws={'linewidth': 4})\n",
        "ax.set_ylabel('# account length')\n",
        "ax.set_xlabel('churn')\n",
        "ax.set_title('# of Customers by their tenure')"
      ],
      "execution_count": null,
      "outputs": [
        {
          "output_type": "stream",
          "name": "stderr",
          "text": [
            "/usr/local/lib/python3.7/dist-packages/seaborn/distributions.py:2619: FutureWarning: `distplot` is a deprecated function and will be removed in a future version. Please adapt your code to use either `displot` (a figure-level function with similar flexibility) or `histplot` (an axes-level function for histograms).\n",
            "  warnings.warn(msg, FutureWarning)\n"
          ]
        },
        {
          "output_type": "execute_result",
          "data": {
            "text/plain": [
              "Text(0.5, 1.0, '# of Customers by their tenure')"
            ]
          },
          "metadata": {},
          "execution_count": 22
        },
        {
          "output_type": "display_data",
          "data": {
            "image/png": "[encoded data removed]",
            "text/plain": [
              "<Figure size 432x288 with 1 Axes>"
            ]
          },
          "metadata": {
            "needs_background": "light"
          }
        }
      ]
    },
    {
      "cell_type": "code",
      "metadata": {
        "colab": {
          "base_uri": "https://localhost:8080/",
          "height": 296
        },
        "id": "Ai_okhfv7OcR",
        "outputId": "59a86641-2287-410d-b07c-123eb2c23f3c"
      },
      "source": [
        "#Churn vs Tenure\n",
        "\n",
        "sns.boxplot(x = churn.churn, y = churn.account_length) "
      ],
      "execution_count": null,
      "outputs": [
        {
          "output_type": "execute_result",
          "data": {
            "text/plain": [
              "<matplotlib.axes._subplots.AxesSubplot at 0x7f74eceaa610>"
            ]
          },
          "metadata": {},
          "execution_count": 20
        },
        {
          "output_type": "display_data",
          "data": {
            "image/png": "[encoded data removed]",
            "text/plain": [
              "<Figure size 432x288 with 1 Axes>"
            ]
          },
          "metadata": {
            "needs_background": "light"
          }
        }
      ]
    },
    {
      "cell_type": "code",
      "metadata": {
        "colab": {
          "base_uri": "https://localhost:8080/",
          "height": 223
        },
        "id": "98KVw1WnTFO9",
        "outputId": "4788f2a6-4681-4759-a261-2d3f79280b66"
      },
      "source": [
        "churn.head()"
      ],
      "execution_count": null,
      "outputs": [
        {
          "output_type": "execute_result",
          "data": {
            "text/html": [
              "<div>\n",
              "<style scoped>\n",
              "    .dataframe tbody tr th:only-of-type {\n",
              "        vertical-align: middle;\n",
              "    }\n",
              "\n",
              "    .dataframe tbody tr th {\n",
              "        vertical-align: top;\n",
              "    }\n",
              "\n",
              "    .dataframe thead th {\n",
              "        text-align: right;\n",
              "    }\n",
              "</style>\n",
              "<table border=\"1\" class=\"dataframe\">\n",
              "  <thead>\n",
              "    <tr style=\"text-align: right;\">\n",
              "      <th></th>\n",
              "      <th>state</th>\n",
              "      <th>account_length</th>\n",
              "      <th>area_code</th>\n",
              "      <th>international_plan</th>\n",
              "      <th>voice_mail_plan</th>\n",
              "      <th>number_vmail_messages</th>\n",
              "      <th>total_day_minutes</th>\n",
              "      <th>total_day_calls</th>\n",
              "      <th>total_day_charge</th>\n",
              "      <th>total_eve_minutes</th>\n",
              "      <th>total_eve_calls</th>\n",
              "      <th>total_eve_charge</th>\n",
              "      <th>total_night_minutes</th>\n",
              "      <th>total_night_calls</th>\n",
              "      <th>total_night_charge</th>\n",
              "      <th>total_intl_minutes</th>\n",
              "      <th>total_intl_calls</th>\n",
              "      <th>total_intl_charge</th>\n",
              "      <th>number_customer_service_calls</th>\n",
              "      <th>churn</th>\n",
              "    </tr>\n",
              "  </thead>\n",
              "  <tbody>\n",
              "    <tr>\n",
              "      <th>0</th>\n",
              "      <td>OH</td>\n",
              "      <td>107</td>\n",
              "      <td>area_code_415</td>\n",
              "      <td>no</td>\n",
              "      <td>yes</td>\n",
              "      <td>26</td>\n",
              "      <td>161.6</td>\n",
              "      <td>123</td>\n",
              "      <td>27.47</td>\n",
              "      <td>195.5</td>\n",
              "      <td>103</td>\n",
              "      <td>16.62</td>\n",
              "      <td>254.4</td>\n",
              "      <td>103</td>\n",
              "      <td>11.45</td>\n",
              "      <td>13.7</td>\n",
              "      <td>3</td>\n",
              "      <td>3.70</td>\n",
              "      <td>1</td>\n",
              "      <td>no</td>\n",
              "    </tr>\n",
              "    <tr>\n",
              "      <th>1</th>\n",
              "      <td>NJ</td>\n",
              "      <td>137</td>\n",
              "      <td>area_code_415</td>\n",
              "      <td>no</td>\n",
              "      <td>no</td>\n",
              "      <td>0</td>\n",
              "      <td>243.4</td>\n",
              "      <td>114</td>\n",
              "      <td>41.38</td>\n",
              "      <td>121.2</td>\n",
              "      <td>110</td>\n",
              "      <td>10.30</td>\n",
              "      <td>162.6</td>\n",
              "      <td>104</td>\n",
              "      <td>7.32</td>\n",
              "      <td>12.2</td>\n",
              "      <td>5</td>\n",
              "      <td>3.29</td>\n",
              "      <td>0</td>\n",
              "      <td>no</td>\n",
              "    </tr>\n",
              "    <tr>\n",
              "      <th>2</th>\n",
              "      <td>OH</td>\n",
              "      <td>84</td>\n",
              "      <td>area_code_408</td>\n",
              "      <td>yes</td>\n",
              "      <td>no</td>\n",
              "      <td>0</td>\n",
              "      <td>299.4</td>\n",
              "      <td>71</td>\n",
              "      <td>50.90</td>\n",
              "      <td>61.9</td>\n",
              "      <td>88</td>\n",
              "      <td>5.26</td>\n",
              "      <td>196.9</td>\n",
              "      <td>89</td>\n",
              "      <td>8.86</td>\n",
              "      <td>6.6</td>\n",
              "      <td>7</td>\n",
              "      <td>1.78</td>\n",
              "      <td>2</td>\n",
              "      <td>no</td>\n",
              "    </tr>\n",
              "    <tr>\n",
              "      <th>3</th>\n",
              "      <td>OK</td>\n",
              "      <td>75</td>\n",
              "      <td>area_code_415</td>\n",
              "      <td>yes</td>\n",
              "      <td>no</td>\n",
              "      <td>0</td>\n",
              "      <td>166.7</td>\n",
              "      <td>113</td>\n",
              "      <td>28.34</td>\n",
              "      <td>148.3</td>\n",
              "      <td>122</td>\n",
              "      <td>12.61</td>\n",
              "      <td>186.9</td>\n",
              "      <td>121</td>\n",
              "      <td>8.41</td>\n",
              "      <td>10.1</td>\n",
              "      <td>3</td>\n",
              "      <td>2.73</td>\n",
              "      <td>3</td>\n",
              "      <td>no</td>\n",
              "    </tr>\n",
              "    <tr>\n",
              "      <th>4</th>\n",
              "      <td>MA</td>\n",
              "      <td>121</td>\n",
              "      <td>area_code_510</td>\n",
              "      <td>no</td>\n",
              "      <td>yes</td>\n",
              "      <td>24</td>\n",
              "      <td>218.2</td>\n",
              "      <td>88</td>\n",
              "      <td>37.09</td>\n",
              "      <td>348.5</td>\n",
              "      <td>108</td>\n",
              "      <td>29.62</td>\n",
              "      <td>212.6</td>\n",
              "      <td>118</td>\n",
              "      <td>9.57</td>\n",
              "      <td>7.5</td>\n",
              "      <td>7</td>\n",
              "      <td>2.03</td>\n",
              "      <td>3</td>\n",
              "      <td>no</td>\n",
              "    </tr>\n",
              "  </tbody>\n",
              "</table>\n",
              "</div>"
            ],
            "text/plain": [
              "  state  account_length  ... number_customer_service_calls churn\n",
              "0    OH             107  ...                             1    no\n",
              "1    NJ             137  ...                             0    no\n",
              "2    OH              84  ...                             2    no\n",
              "3    OK              75  ...                             3    no\n",
              "4    MA             121  ...                             3    no\n",
              "\n",
              "[5 rows x 20 columns]"
            ]
          },
          "metadata": {},
          "execution_count": 23
        }
      ]
    },
    {
      "cell_type": "code",
      "metadata": {
        "colab": {
          "base_uri": "https://localhost:8080/",
          "height": 1000
        },
        "id": "NZV811CDTJJz",
        "outputId": "bb71552c-59ae-4f9b-fd47-e39cc8918fb9"
      },
      "source": [
        "#visualize correlation of data\n",
        "\n",
        "plt.rcParams['figure.figsize'] = (20, 20)\n",
        "sns.heatmap(churn.corr(), cmap = 'copper', annot = True)"
      ],
      "execution_count": null,
      "outputs": [
        {
          "output_type": "execute_result",
          "data": {
            "text/plain": [
              "<matplotlib.axes._subplots.AxesSubplot at 0x7f74ec68e8d0>"
            ]
          },
          "metadata": {},
          "execution_count": 24
        },
        {
          "output_type": "display_data",
          "data": {
            "image/png": "[encoded data removed]",
            "text/plain": [
              "<Figure size 1440x1440 with 2 Axes>"
            ]
          },
          "metadata": {
            "needs_background": "light"
          }
        }
      ]
    },
    {
      "cell_type": "code",
      "metadata": {
        "colab": {
          "base_uri": "https://localhost:8080/",
          "height": 229
        },
        "id": "JHjsw0aj7OcR",
        "outputId": "41885168-4d80-4d79-90b9-ffe5c3af7ca0"
      },
      "source": [
        "#Churn by number_customer_service_calls_churn\n",
        "        \n",
        "colors = ['#4D3425','#E4512B']\n",
        "number_customer_service_calls_churn = churn(['number_customer_service_calls','churn']).size().unstack()\n",
        "\n",
        "ax = (number_customer_service_calls_churn.T*100.0 / number_customer_service_calls_churn.T.sum()).T.plot(kind='bar',\n",
        "                                                                width = 0.3,\n",
        "                                                                stacked = True,\n",
        "                                                                rot = 0, \n",
        "                                                                figsize = (10,6),\n",
        "                                                                color = colors)\n",
        "ax.yaxis.set_major_formatter(mtick.PercentFormatter())\n",
        "ax.legend(loc='best',prop={'size':14},title = 'Churn')\n",
        "ax.set_ylabel('% Customers',size = 14)\n",
        "ax.set_title('Churn by number_customer_service_calls_',size = 14)\n",
        "\n",
        "# Code to add the data labels on the stacked bar chart\n",
        "for p in ax.patches:\n",
        "    width, height = p.get_width(), p.get_height()\n",
        "    x, y = p.get_xy() \n",
        "    ax.annotate('{:.0f}%'.format(height), (p.get_x()+.25*width, p.get_y()+.4*height),\n",
        "          color = 'white',\n",
        "          weight = 'bold',\n",
        "          size = 14)"
      ],
      "execution_count": null,
      "outputs": [
        {
          "output_type": "error",
          "ename": "TypeError",
          "evalue": "ignored",
          "traceback": [
            "\u001b[0;31m---------------------------------------------------------------------------\u001b[0m",
            "\u001b[0;31mTypeError\u001b[0m                                 Traceback (most recent call last)",
            "\u001b[0;32m<ipython-input-36-5b05bdcfc540>\u001b[0m in \u001b[0;36m<module>\u001b[0;34m()\u001b[0m\n\u001b[1;32m      2\u001b[0m \u001b[0;34m\u001b[0m\u001b[0m\n\u001b[1;32m      3\u001b[0m \u001b[0mcolors\u001b[0m \u001b[0;34m=\u001b[0m \u001b[0;34m[\u001b[0m\u001b[0;34m'#4D3425'\u001b[0m\u001b[0;34m,\u001b[0m\u001b[0;34m'#E4512B'\u001b[0m\u001b[0;34m]\u001b[0m\u001b[0;34m\u001b[0m\u001b[0;34m\u001b[0m\u001b[0m\n\u001b[0;32m----> 4\u001b[0;31m \u001b[0mnumber_customer_service_calls_churn\u001b[0m \u001b[0;34m=\u001b[0m \u001b[0mchurn\u001b[0m\u001b[0;34m(\u001b[0m\u001b[0;34m[\u001b[0m\u001b[0;34m'number_customer_service_calls'\u001b[0m\u001b[0;34m,\u001b[0m\u001b[0;34m'churn'\u001b[0m\u001b[0;34m]\u001b[0m\u001b[0;34m)\u001b[0m\u001b[0;34m.\u001b[0m\u001b[0msize\u001b[0m\u001b[0;34m(\u001b[0m\u001b[0;34m)\u001b[0m\u001b[0;34m.\u001b[0m\u001b[0munstack\u001b[0m\u001b[0;34m(\u001b[0m\u001b[0;34m)\u001b[0m\u001b[0;34m\u001b[0m\u001b[0;34m\u001b[0m\u001b[0m\n\u001b[0m\u001b[1;32m      5\u001b[0m \u001b[0;34m\u001b[0m\u001b[0m\n\u001b[1;32m      6\u001b[0m ax = (number_customer_service_calls_churn.T*100.0 / number_customer_service_calls_churn.T.sum()).T.plot(kind='bar',\n",
            "\u001b[0;31mTypeError\u001b[0m: 'DataFrame' object is not callable"
          ]
        }
      ]
    },
    {
      "cell_type": "code",
      "metadata": {
        "colab": {
          "base_uri": "https://localhost:8080/",
          "height": 601
        },
        "id": "XIwqLwWy7OcS",
        "outputId": "4fc6b1f9-9a04-488b-bb93-f589af0cc560"
      },
      "source": [
        "#Churn by Seniority\n",
        "\n",
        "colors = ['#4D3425','#E4512B']\n",
        "total_intl_charg_churn = churn.groupby(['total_intl_charge','churn']).size().unstack()\n",
        "\n",
        "ax = (total_intl_charg_churn.T*100.0 / total_intl_charg_churn.T.sum()).T.plot(kind='bar',\n",
        "                                                                width = 0.2,\n",
        "                                                                stacked = True,\n",
        "                                                                rot = 0, \n",
        "                                                                figsize = (8,6),\n",
        "                                                                color = colors)\n",
        "ax.yaxis.set_major_formatter(mtick.PercentFormatter())\n",
        "ax.legend(loc='center',prop={'size':14},title = 'Churn')\n",
        "ax.set_ylabel('% Customers')\n",
        "ax.set_title('Churn by Seniority Level',size = 14)\n",
        "\n",
        "# Code to add the data labels on the stacked bar chart\n",
        "for p in ax.patches:\n",
        "    width, height = p.get_width(), p.get_height()\n",
        "    x, y = p.get_xy() \n",
        "    ax.annotate('{:.0f}%'.format(height), (p.get_x()+.25*width, p.get_y()+.4*height),\n",
        "                color = 'white',\n",
        "               weight = 'bold',size =14)"
      ],
      "execution_count": null,
      "outputs": [
        {
          "output_type": "error",
          "ename": "NameError",
          "evalue": "ignored",
          "traceback": [
            "\u001b[0;31m---------------------------------------------------------------------------\u001b[0m",
            "\u001b[0;31mNameError\u001b[0m                                 Traceback (most recent call last)",
            "\u001b[0;32m<ipython-input-21-8a20d439937d>\u001b[0m in \u001b[0;36m<module>\u001b[0;34m()\u001b[0m\n\u001b[1;32m     10\u001b[0m                                                                 \u001b[0mfigsize\u001b[0m \u001b[0;34m=\u001b[0m \u001b[0;34m(\u001b[0m\u001b[0;36m8\u001b[0m\u001b[0;34m,\u001b[0m\u001b[0;36m6\u001b[0m\u001b[0;34m)\u001b[0m\u001b[0;34m,\u001b[0m\u001b[0;34m\u001b[0m\u001b[0;34m\u001b[0m\u001b[0m\n\u001b[1;32m     11\u001b[0m                                                                 color = colors)\n\u001b[0;32m---> 12\u001b[0;31m \u001b[0max\u001b[0m\u001b[0;34m.\u001b[0m\u001b[0myaxis\u001b[0m\u001b[0;34m.\u001b[0m\u001b[0mset_major_formatter\u001b[0m\u001b[0;34m(\u001b[0m\u001b[0mmtick\u001b[0m\u001b[0;34m.\u001b[0m\u001b[0mPercentFormatter\u001b[0m\u001b[0;34m(\u001b[0m\u001b[0;34m)\u001b[0m\u001b[0;34m)\u001b[0m\u001b[0;34m\u001b[0m\u001b[0;34m\u001b[0m\u001b[0m\n\u001b[0m\u001b[1;32m     13\u001b[0m \u001b[0max\u001b[0m\u001b[0;34m.\u001b[0m\u001b[0mlegend\u001b[0m\u001b[0;34m(\u001b[0m\u001b[0mloc\u001b[0m\u001b[0;34m=\u001b[0m\u001b[0;34m'center'\u001b[0m\u001b[0;34m,\u001b[0m\u001b[0mprop\u001b[0m\u001b[0;34m=\u001b[0m\u001b[0;34m{\u001b[0m\u001b[0;34m'size'\u001b[0m\u001b[0;34m:\u001b[0m\u001b[0;36m14\u001b[0m\u001b[0;34m}\u001b[0m\u001b[0;34m,\u001b[0m\u001b[0mtitle\u001b[0m \u001b[0;34m=\u001b[0m \u001b[0;34m'Churn'\u001b[0m\u001b[0;34m)\u001b[0m\u001b[0;34m\u001b[0m\u001b[0;34m\u001b[0m\u001b[0m\n\u001b[1;32m     14\u001b[0m \u001b[0max\u001b[0m\u001b[0;34m.\u001b[0m\u001b[0mset_ylabel\u001b[0m\u001b[0;34m(\u001b[0m\u001b[0;34m'% Customers'\u001b[0m\u001b[0;34m)\u001b[0m\u001b[0;34m\u001b[0m\u001b[0;34m\u001b[0m\u001b[0m\n",
            "\u001b[0;31mNameError\u001b[0m: name 'mtick' is not defined"
          ]
        },
        {
          "output_type": "display_data",
          "data": {
            "image/png": "[encoded data removed]",
            "text/plain": [
              "<Figure size 576x432 with 1 Axes>"
            ]
          },
          "metadata": {
            "needs_background": "light"
          }
        }
      ]
    },
    {
      "cell_type": "code",
      "metadata": {
        "colab": {
          "base_uri": "https://localhost:8080/"
        },
        "id": "goBgPpm_7OcS",
        "outputId": "5e4af84f-4c58-44ee-8a58-497952dfce95"
      },
      "source": [
        "#Churn by state\n",
        "\n",
        "ax = sns.kdeplot(churn.state[(churn[\"churn\"] == 'No') ],\n",
        "                color=\"Red\", shade = True)\n",
        "ax = sns.kdeplot(churn.state[(churn[\"churn\"] == 'Yes') ],\n",
        "                ax =ax, color=\"Blue\", shade= True)\n",
        "ax.legend([\"Not Churn\",\"Churn\"],loc='upper right')\n",
        "ax.set_ylabel('Density')\n",
        "ax.set_xlabel('state')\n",
        "ax.set_title('Distribution of state by churn')"
      ],
      "execution_count": null,
      "outputs": [
        {
          "output_type": "execute_result",
          "data": {
            "text/plain": [
              "Text(0.5, 1.0, 'Distribution of state by churn')"
            ]
          },
          "metadata": {},
          "execution_count": 40
        }
      ]
    },
    {
      "cell_type": "code",
      "metadata": {
        "colab": {
          "base_uri": "https://localhost:8080/",
          "height": 1000
        },
        "id": "VsjAQCze7OcS",
        "outputId": "c665768e-1b3d-4bf7-9a70-489adbf118cc"
      },
      "source": [
        "#Let us see how the duration of the contact affects customer churn\n",
        "\n",
        "internet=pd.crosstab(churn[\"account_length\"],churn[\"churn\"],normalize=\"columns\").plot(kind=\"bar\")\n",
        "\n"
      ],
      "execution_count": null,
      "outputs": [
        {
          "output_type": "display_data",
          "data": {
            "image/png": "[encoded data removed]",
            "text/plain": [
              "<Figure size 1440x1440 with 1 Axes>"
            ]
          },
          "metadata": {
            "needs_background": "light"
          }
        }
      ]
    },
    {
      "cell_type": "code",
      "metadata": {
        "id": "oI6X3iH37OcS"
      },
      "source": [
        "# of customers by different contracts\n",
        "\n",
        "ax = telecom_cust['Contract'].value_counts().plot(kind = 'bar',rot = 0, width = 0.3)\n",
        "ax.set_ylabel('# of Customers')\n",
        "ax.set_title('# of Customers by Contract Type')"
      ],
      "execution_count": null,
      "outputs": []
    },
    {
      "cell_type": "code",
      "metadata": {
        "id": "KE1ZFO0G7OcT"
      },
      "source": [
        "#Below we will understand the tenure of customers based on their contract type.\n",
        "\n",
        "fig, (ax1,ax2,ax3) = plt.subplots(nrows=1, ncols=3, sharey = True, figsize = (20,6))\n",
        "\n",
        "ax = sns.distplot(telecom_cust[telecom_cust['Contract']=='Month-to-month']['tenure'],\n",
        "                   hist=True, kde=False,\n",
        "                   bins=int(180/5), color = 'turquoise',\n",
        "                   hist_kws={'edgecolor':'black'},\n",
        "                   kde_kws={'linewidth': 4},\n",
        "                 ax=ax1)\n",
        "ax.set_ylabel('# of Customers')\n",
        "ax.set_xlabel('Tenure (months)')\n",
        "ax.set_title('Month to Month Contract')\n",
        "\n",
        "ax = sns.distplot(telecom_cust[telecom_cust['Contract']=='One year']['tenure'],\n",
        "                   hist=True, kde=False,\n",
        "                   bins=int(180/5), color = 'steelblue',\n",
        "                   hist_kws={'edgecolor':'black'},\n",
        "                   kde_kws={'linewidth': 4},\n",
        "                 ax=ax2)\n",
        "ax.set_xlabel('Tenure (months)',size = 14)\n",
        "ax.set_title('One Year Contract',size = 14)\n",
        "\n",
        "ax = sns.distplot(telecom_cust[telecom_cust['Contract']=='Two year']['tenure'],\n",
        "                   hist=True, kde=False,\n",
        "                   bins=int(180/5), color = 'darkblue',\n",
        "                   hist_kws={'edgecolor':'black'},\n",
        "                   kde_kws={'linewidth': 4},\n",
        "                 ax=ax3)\n",
        "\n",
        "ax.set_xlabel('Tenure (months)')\n",
        "ax.set_title('Two Year Contract')\n"
      ],
      "execution_count": null,
      "outputs": []
    },
    {
      "cell_type": "code",
      "metadata": {
        "id": "YrcKLQrS7OcT"
      },
      "source": [
        "#We will observe that the total charges increases as the monthly bill for a customer increases.\n",
        "\n",
        "telecom_cust[['MonthlyCharges', 'TotalCharges']].plot.scatter(x = 'MonthlyCharges',\n",
        "                                                              y='TotalCharges')"
      ],
      "execution_count": null,
      "outputs": []
    },
    {
      "cell_type": "code",
      "metadata": {
        "id": "FjepApLR7OcT"
      },
      "source": [
        "#look at out predictor variable (Churn) and understand its interaction with other important variables as was found out in the correlation plot.\n",
        "\n"
      ],
      "execution_count": null,
      "outputs": []
    },
    {
      "cell_type": "code",
      "metadata": {
        "id": "gEU32Scb7OcT"
      },
      "source": [
        "#For this section we will have to generate additional columns for our categorical variables in the shape f dummy variables.\n",
        "\n",
        "df['TotalCharges']=pd.to_numeric(df[\"TotalCharges\"],downcast='float',errors='coerce')\n",
        "df=pd.get_dummies(df,columns=['gender','Partner','Dependents','PhoneService','MultipleLines','InternetService','OnlineSecurity','OnlineBackup','DeviceProtection','TechSupport','StreamingTV','StreamingMovies','Contract','PaperlessBilling','PaymentMethod','Churn'])\n",
        "df.drop([ 'Churn_No', 'gender_Female', 'Partner_No',\n",
        "        'Dependents_No', 'PhoneService_No', 'PaperlessBilling_No'],axis=1,inplace=True)"
      ],
      "execution_count": null,
      "outputs": []
    },
    {
      "cell_type": "markdown",
      "metadata": {
        "id": "EXcr6XLz7OcU"
      },
      "source": [
        "One of the way is to reduce the dimensionality of the dataset through a principal component analysis. Whether the principal component analysis can be conducted on a categorical dataset is another question. This link on Stack Exchannge provides a different alternative called a multiple correspondence analysis\n",
        "\n",
        "(MCA).https://stats.stackexchange.com/questions/5774/can-principal-component-analysis-be-applied-to-datasets-containing-a-mix-of-cont"
      ]
    },
    {
      "cell_type": "code",
      "metadata": {
        "id": "psG6heYB7OcU"
      },
      "source": [
        ""
      ],
      "execution_count": null,
      "outputs": []
    },
    {
      "cell_type": "markdown",
      "metadata": {
        "id": "rJt69mZ07OcU"
      },
      "source": [
        "Looking at the features included in data and connecting them to their potential influence on customer churn, the following hypotheses can be made:"
      ]
    },
    {
      "cell_type": "code",
      "metadata": {
        "id": "Aj1lCiaE7OcU"
      },
      "source": [
        "#display frequency distribtion for churn \n",
        "\n",
        "plt.style.use(\"fivethirtyeight\")\n",
        "\n",
        "plt.figure(figsize=(5'5))\n",
        "ax = sns.countplot(x=churn['churn'], palette ='Blues', linewidth = 1)\n",
        "plt.show()              "
      ],
      "execution_count": null,
      "outputs": []
    },
    {
      "cell_type": "code",
      "metadata": {
        "id": "HTgC5QgU7OcV"
      },
      "source": [
        "#Get Correlation of \"Churn\" with other variables:\n",
        "plt.figure(figsize=(15,8))\n",
        "df_dummies.corr()['Churn'].sort_values(ascending = False).plot(kind='bar')"
      ],
      "execution_count": null,
      "outputs": []
    },
    {
      "cell_type": "markdown",
      "metadata": {
        "id": "5Ww2eewp7OcV"
      },
      "source": [
        "The plot shows a class imbalance of the data between churners and non-churners. To address this, resampling would be a suitable approach."
      ]
    },
    {
      "cell_type": "markdown",
      "metadata": {
        "id": "sOTOiH_B7OcV"
      },
      "source": [
        "All visualizations for categorical variables"
      ]
    },
    {
      "cell_type": "code",
      "metadata": {
        "id": "LlzhhZ5X7OcV"
      },
      "source": [
        ""
      ],
      "execution_count": null,
      "outputs": []
    },
    {
      "cell_type": "markdown",
      "metadata": {
        "id": "xHmPtMmw7OcW"
      },
      "source": [
        "Now let's look at the numerical variables."
      ]
    },
    {
      "cell_type": "code",
      "metadata": {
        "id": "MW-Kk1Yn7OcW"
      },
      "source": [
        "plt.figure(1), plt.subplot(121), sns.distplot(df['tenure']);\n",
        "plt.figure(1), plt.subplot(121), sns.distplot(df['MonthlyCharges']);\n",
        "plt.figure(1), plt.subplot(121), sns.distplot(df['TotalCharges']);"
      ],
      "execution_count": null,
      "outputs": []
    },
    {
      "cell_type": "markdown",
      "metadata": {
        "id": "Uts8lrzv7OcW"
      },
      "source": [
        "# Step 4: Feature Engineering"
      ]
    },
    {
      "cell_type": "markdown",
      "metadata": {
        "id": "NIZi7Pwt7OcW"
      },
      "source": [
        "In this section we will clean up our dataset by dropping irrelevant data, treating missing values, and converting our variables to the proper data type."
      ]
    },
    {
      "cell_type": "markdown",
      "metadata": {
        "id": "2MMLp4b-7OcW"
      },
      "source": [
        "By using the Pandas function “get_dummies()”, we can replace the gender column with “gender_Female” and “gender_Male”. We will use df.info() to show us which ones are categorical and numerical."
      ]
    },
    {
      "cell_type": "code",
      "metadata": {
        "id": "9wfgJ5QB7OcX"
      },
      "source": [
        "#dropping unecessary features \n",
        "\n",
        "df.drop([‘customerID’], axis=1, inplace=True)"
      ],
      "execution_count": null,
      "outputs": []
    },
    {
      "cell_type": "code",
      "metadata": {
        "id": "1KX0eDzF7OcX",
        "outputId": "db848859-3320-4b62-e40e-2b322cfd2155"
      },
      "source": [
        "#Converting Categorical to numerical data\n",
        "#variables with the object datatype need to be converted to numerical.\n",
        "\n",
        "churn.info()"
      ],
      "execution_count": null,
      "outputs": [
        {
          "ename": "NameError",
          "evalue": "name 'churn' is not defined",
          "output_type": "error",
          "traceback": [
            "\u001b[1;31m---------------------------------------------------------------------------\u001b[0m",
            "\u001b[1;31mNameError\u001b[0m                                 Traceback (most recent call last)",
            "\u001b[1;32m<ipython-input-1-9bab9c6dd118>\u001b[0m in \u001b[0;36m<module>\u001b[1;34m()\u001b[0m\n\u001b[0;32m      1\u001b[0m \u001b[1;31m#Converting Categorical to numerical data\u001b[0m\u001b[1;33m\u001b[0m\u001b[1;33m\u001b[0m\u001b[0m\n\u001b[0;32m      2\u001b[0m \u001b[1;33m\u001b[0m\u001b[0m\n\u001b[1;32m----> 3\u001b[1;33m \u001b[0mchurn\u001b[0m\u001b[1;33m.\u001b[0m\u001b[0minfo\u001b[0m\u001b[1;33m(\u001b[0m\u001b[1;33m)\u001b[0m\u001b[1;33m\u001b[0m\u001b[0m\n\u001b[0m",
            "\u001b[1;31mNameError\u001b[0m: name 'churn' is not defined"
          ]
        }
      ]
    },
    {
      "cell_type": "code",
      "metadata": {
        "id": "UlumjIgj7OcX"
      },
      "source": [
        "df = pd.get_dummies(df, columns = [‘gender’, ‘Partner’,   ‘Dependents’,’PhoneService’,’MultipleLines’,’InternetService’,\n",
        "‘OnlineSecurity’,’OnlineBackup’,’DeviceProtection’,’TechSupport’,’StreamingTV’,‘StreamingMovies’,’Contract’,’PaperlessBilling’,’PaymentMethod’,’Churn’], drop_first = True)"
      ],
      "execution_count": null,
      "outputs": []
    },
    {
      "cell_type": "code",
      "metadata": {
        "id": "y_TdMa8w7OcX"
      },
      "source": [
        "#use df.info() to check that all our variables were converted to the appropriate data type\n",
        "\n",
        "churn.info()"
      ],
      "execution_count": null,
      "outputs": []
    },
    {
      "cell_type": "code",
      "metadata": {
        "id": "KwDhgvba7OcX"
      },
      "source": [
        "#use pd.numeric() function to convert it to a float.\n",
        "\n",
        "df[‘TotalCharges’] = pd.to_numeric(df.TotalCharges, errors = ‘coerce’)\n",
        "df.drop([‘TotalCharges’], axis = 1, inplace = True)"
      ],
      "execution_count": null,
      "outputs": []
    },
    {
      "cell_type": "markdown",
      "metadata": {
        "id": "px6ipuxQ7OcX"
      },
      "source": [
        "# Step 5: Train/Test Split"
      ]
    },
    {
      "cell_type": "markdown",
      "metadata": {
        "id": "AK-9YimR7OcY"
      },
      "source": [
        "First our model needs to be trained, second our model needs to be tested. X is the data with the independent variables, Y is the data with the dependent variable. The test size variable determines in which ratio the data will be split. It is quite common to do this in an 80 Training / 20 Test ratio."
      ]
    },
    {
      "cell_type": "code",
      "metadata": {
        "id": "-ZMzaisc7OcY"
      },
      "source": [
        "df[‘Churn_Yes’] = df[‘Churn_Yes’].astype(int)\n",
        "Y = df[“Churn_Yes”].values\n",
        "X = df.drop(labels = [“Churn_Yes”],axis = 1)\n",
        "# Create Train & Test Data\n",
        "from sklearn.model_selection import train_test_split\n",
        "X_train, X_test, y_train, y_test = train_test_split(X, Y, test_size=0.2, random_state=101)"
      ],
      "execution_count": null,
      "outputs": []
    },
    {
      "cell_type": "markdown",
      "metadata": {
        "id": "V8JzcMsv7OcY"
      },
      "source": [
        "# Step 6: Model Evaluation Metrics Definition"
      ]
    },
    {
      "cell_type": "markdown",
      "metadata": {
        "id": "CMXj-2lF7OcY"
      },
      "source": [
        "The model experimented four algorithms: Decision Tree, Random Forest, Gradient Boosted Machine Tree “GBM” and Extreme Gradient Boosting “XGBOOST”. However, the best results were obtained by applying XGBOOST algorithm. This algorithm was used for classification in this churn predictive model."
      ]
    },
    {
      "cell_type": "markdown",
      "metadata": {
        "id": "mz6sIklN7OcY"
      },
      "source": [
        "Logistic Regression & Model Testing. First model to predict the target variable. We will start with Logistic Regression which is used for predicting binary outcome. We will use scikit-learn (sklearn) for making different models which is an open source library for Python. "
      ]
    },
    {
      "cell_type": "markdown",
      "metadata": {
        "id": "DxOBIgxx7OcY"
      },
      "source": [
        "For performance assessment of the chosen models, various metrics are used:\n",
        "- Feature weights: Indicates the top features used by the model to generate the predictions\n",
        "- Confusion matrix: Shows a grid of true and false predictions compared to the actual values\n",
        "- Accuracy score: Shows the overall accuracy of the model for training set and test set\n",
        "- ROC Curve: Shows the diagnostic ability of a model by bringing together true positive rate (TPR) and false positive rate (FPR) - for different thresholds of class predictions (e.g. thresholds of 10%, 50% or 90% resulting to a prediction of churn)\n",
        "- AUC (for ROC): Measures the overall separability between classes of the model related to the ROC curve\n",
        "- Precision-Recall-Curve: Shows the diagnostic ability by comparing false positive rate (FPR) and false negative rate (FNR) for - different thresholds of class predictions. It is suitable for data sets with high class imbalances (negative values overrepresented) as it focuses on precision and recall, which are not dependent on the number of true negatives and thereby excludes the imbalance\n",
        "- F1 Score: Builds the harmonic mean of precision and recall and thereby measures the compromise between both.\n",
        "- AUC (for PRC): Measures the overall separability between classes of the model related to the Precision-Recall curve"
      ]
    },
    {
      "cell_type": "markdown",
      "metadata": {
        "id": "SwSsAK6a7OcY"
      },
      "source": [
        "Logistic Regression"
      ]
    },
    {
      "cell_type": "code",
      "metadata": {
        "id": "6vS_Exrs7OcY"
      },
      "source": [
        "#logistic regression\n",
        "\n",
        "lr=LogisticRegression()\n",
        "lr.fit(X_train,y_train)\n",
        "y_pred=lr.predict(X_test)\n",
        "print(classification_report(y_pred,y_test))"
      ],
      "execution_count": null,
      "outputs": []
    },
    {
      "cell_type": "code",
      "metadata": {
        "id": "VE5m4Fqh7OcZ"
      },
      "source": [
        "from sklearn.linear_model import LogisticRegression\n",
        "model = LogisticRegression()\n",
        "result = model.fit(X_train, y_train)"
      ],
      "execution_count": null,
      "outputs": []
    },
    {
      "cell_type": "code",
      "metadata": {
        "id": "utTe8Uqr7OcZ"
      },
      "source": [
        "#The dataset has been divided into training and validation part\n",
        "#import LogisticRegression and accuracy_score from sklearn and fit the logistic regression model.\n",
        "\n",
        "from sklearn import metrics\n",
        "prediction_test = model.predict(X_test)# Print the prediction accuracy\n",
        "print (metrics.accuracy_score(y_test, prediction_test))"
      ],
      "execution_count": null,
      "outputs": []
    },
    {
      "cell_type": "markdown",
      "metadata": {
        "id": "ZEhlbXPb7OcZ"
      },
      "source": [
        "0.800567778566\n",
        "\n",
        "So our predictions are almost 81% accurate, i.e. we have identified 80% of the churn rate correctly. So with the final objective to reduce churn and take the right preventing actions in time, we want to know which independent variables have the most influence on our predicted outcome. Therefore we set the coefficients in our model to zero and look at the weights of each variable."
      ]
    },
    {
      "cell_type": "code",
      "metadata": {
        "id": "hYAyJ8Ir7OcZ"
      },
      "source": [
        "weights = pd.Series(model.coef_[0],\n",
        " index=X.columns.values)\n",
        "weights.sort_values(ascending = False)"
      ],
      "execution_count": null,
      "outputs": []
    },
    {
      "cell_type": "markdown",
      "metadata": {
        "id": "BJNFxrzd7OcZ"
      },
      "source": [
        "Decision Tree Classifier"
      ]
    },
    {
      "cell_type": "code",
      "metadata": {
        "id": "NSWDjUwz7OcZ"
      },
      "source": [
        "#decision tree classifier\n",
        "\n",
        "dc=DecisionTreeClassifier()f\n",
        "dc.fit(X_train,y_train)\n",
        "y_pred=dc.predict(X_test)\n",
        "Tree',accuracy_score(y_pred,y_test),'\\n'\n",
        "        'Confusion Matrix with Decision Tree', confusion_matrix(y_pred,y_test))"
      ],
      "execution_count": null,
      "outputs": []
    },
    {
      "cell_type": "code",
      "metadata": {
        "id": "WrD5cKhq7OcZ"
      },
      "source": [
        "Accuracy Score with Decision Tree 0.7381121362668559 \n",
        "Confusion Matrix with Decision Tree [[843 194]\n",
        " [175 197]]"
      ],
      "execution_count": null,
      "outputs": []
    },
    {
      "cell_type": "markdown",
      "metadata": {
        "id": "ctkKyE0j7Oca"
      },
      "source": [
        "Support Vecor Machine (SVM)"
      ]
    },
    {
      "cell_type": "code",
      "metadata": {
        "id": "pGOH8LB57Oca"
      },
      "source": [
        "X_train, X_test, y_train, y_test = train_test_split(X, y, test_size=0.2, random_state=99)\n",
        "\n",
        "from sklearn.svm import SVC\n",
        "\n",
        "model.svm = SVC(kernel='linear') \n",
        "model.svm.fit(X_train,y_train)\n",
        "preds = model.svm.predict(X_test)\n",
        "metrics.accuracy_score(y_test, preds)"
      ],
      "execution_count": null,
      "outputs": []
    },
    {
      "cell_type": "code",
      "metadata": {
        "id": "6Pz82Y817Oca"
      },
      "source": [
        "# Create the Confusion matrix\n",
        "from sklearn.metrics import classification_report, confusion_matrix  \n",
        "print(confusion_matrix(y_test,preds)) "
      ],
      "execution_count": null,
      "outputs": []
    },
    {
      "cell_type": "markdown",
      "metadata": {
        "id": "YlsTrO9h7Oca"
      },
      "source": [
        "we need to take a deeper look at the true positive and true negative rates, including the Area Under the Curve (AUC) for a better prediction. "
      ]
    },
    {
      "cell_type": "markdown",
      "metadata": {
        "id": "NFvfVIKS7Oca"
      },
      "source": [
        "AdaBoost "
      ]
    },
    {
      "cell_type": "code",
      "metadata": {
        "id": "HQuezMEu7Oca"
      },
      "source": [
        "# AdaBoost Algorithm\n",
        "from sklearn.ensemble import AdaBoostClassifier\n",
        "model = AdaBoostClassifier()\n",
        "# n_estimators = 50 (default value) \n",
        "# base_estimator = DecisionTreeClassifier (default value)\n",
        "model.fit(X_train,y_train)\n",
        "preds = model.predict(X_test)\n",
        "metrics.accuracy_score(y_test, preds)"
      ],
      "execution_count": null,
      "outputs": []
    },
    {
      "cell_type": "markdown",
      "metadata": {
        "id": "fIrblL9o7Oca"
      },
      "source": [
        "XG Boost"
      ]
    },
    {
      "cell_type": "code",
      "metadata": {
        "id": "UhbYWP5Y7Ocb"
      },
      "source": [
        "from xgboost import XGBClassifier\n",
        "model = XGBClassifier()\n",
        "model.fit(X_train, y_train)\n",
        "preds = model.predict(X_test)\n",
        "metrics.accuracy_score(y_test, preds)"
      ],
      "execution_count": null,
      "outputs": []
    },
    {
      "cell_type": "code",
      "metadata": {
        "id": "4fVP3yuC7Ocb"
      },
      "source": [
        "#GridSearchCV on a random forest classifier to see whether the score of the model can be improved.We used a Randomised Search CV to identify the best estimates for the random forest classifier and then using those estimates we built a\n",
        "#random forest classifier. Let us see the results below\n",
        "#We used a Randomised Search CV to identify the best estimates for the random forest classifier and then using those estimates we built a random forest classifier. Let us see the results below\n",
        "\n",
        "rom sklearn.model_selection import RandomizedSearchCV\n",
        "estimators=range(50,100)\n",
        "max_features = ['auto', 'sqrt']\n",
        "max_depth = range(4,12)\n",
        "min_samples_split = range(2,8)\n",
        "min_samples_leaf = range(1,8)\n",
        "bootstrap = [True, False]\n",
        "criterion=['gini','entropy']\n",
        "random_grid = {'n_estimators':estimators,\n",
        "              'max_features':max_features,\n",
        "              'max_depth':max_depth,\n",
        "              'min_samples_split':min_samples_split,\n",
        "              'min_samples_leaf':min_samples_leaf,\n",
        "              'bootstrap':bootstrap,\n",
        "              'criterion':criterion}\n",
        "rf=RandomForestClassifier()\n",
        "rf=RandomizedSearchCV(estimator=rf,param_distributions=random_grid,cv=5,verbose=1)\n",
        "rf.fit(X_train,y_train)\n",
        "best_estimate=rf.best_params_\n",
        "rf2=RandomForestClassifier(**best_estimate)\n",
        "rf2.fit(X_train,y_train)\n",
        "y_pred=rf2.predict(X_test)\n",
        "print(classification_report(y_pred,y_test))"
      ],
      "execution_count": null,
      "outputs": []
    },
    {
      "cell_type": "markdown",
      "metadata": {
        "id": "mGveDfzE7Ocb"
      },
      "source": [
        "It can be observed that some variables have a positive relation to our predicted variable and some have a negative relation. Customers with negative values show that they are unlikely to churn while those with positive values shows they are likely to churn. "
      ]
    },
    {
      "cell_type": "code",
      "metadata": {
        "id": "x-bsSJeY7Ocb"
      },
      "source": [
        "churn prediction model \n",
        "\n",
        " In order to measure the performance of the model, the Area Under Curve (AUC) standard measure is adopted, and the AUC value obtained is 93.3%. Another main contribution is to use customer social network in the prediction model by extracting Social Network Analysis (SNA) features. The use of SNA enhanced the performance of the model from 84 to 93.3% against AUC standard. "
      ],
      "execution_count": null,
      "outputs": []
    }
  ]
}